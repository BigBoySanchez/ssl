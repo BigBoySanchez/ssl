{
 "cells": [
  {
   "cell_type": "code",
   "execution_count": 15,
   "id": "fd892375",
   "metadata": {},
   "outputs": [],
   "source": [
    "from sklearn.metrics import f1_score\n",
    "import pandas as pd\n",
    "from sklearn.metrics import f1_score\n",
    "from pathlib import Path\n",
    "\n",
    "my_df = pd.read_csv(r'..\\data\\humaid\\plabel\\train\\union.tsv', sep='\\t')\n",
    "their_folder = Path(\"..\\data\\humaid\\k_zero_shot\")\n",
    "\n",
    "rows = []\n",
    "\n",
    "for event_file in their_folder.glob(\"*.tsv\"):\n",
    "    their_df = pd.read_csv(event_file, sep='\\t')\n",
    "    event = '_'.join(event_file.stem.split('_')[:3])\n",
    "\n",
    "    merged = pd.merge(my_df[my_df['event'] == event], their_df, on='tweet_id')\n",
    "    merged = merged[['class_label', 'label', 'gpt5_label']]\n",
    "\n",
    "    my_f1 = f1_score(merged['class_label'], merged['label'], average='macro')\n",
    "    their_f1 = f1_score(merged['class_label'], merged['gpt5_label'], average='macro')\n",
    "\n",
    "    rows.append({'event': event, 'mine': my_f1, 'theirs': their_f1})\n",
    "\n",
    "pd.DataFrame(rows).to_clipboard()\n",
    "\n",
    "\n",
    "\n"
   ]
  }
 ],
 "metadata": {
  "kernelspec": {
   "display_name": "train",
   "language": "python",
   "name": "python3"
  },
  "language_info": {
   "codemirror_mode": {
    "name": "ipython",
    "version": 3
   },
   "file_extension": ".py",
   "mimetype": "text/x-python",
   "name": "python",
   "nbconvert_exporter": "python",
   "pygments_lexer": "ipython3",
   "version": "3.11.13"
  }
 },
 "nbformat": 4,
 "nbformat_minor": 5
}
